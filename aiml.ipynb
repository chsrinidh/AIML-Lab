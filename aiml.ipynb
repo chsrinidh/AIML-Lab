{
  "nbformat": 4,
  "nbformat_minor": 0,
  "metadata": {
    "colab": {
      "provenance": [],
      "authorship_tag": "ABX9TyMIFV67RbAx1FYxXE7siTA9",
      "include_colab_link": true
    },
    "kernelspec": {
      "name": "python3",
      "display_name": "Python 3"
    },
    "language_info": {
      "name": "python"
    }
  },
  "cells": [
    {
      "cell_type": "markdown",
      "metadata": {
        "id": "view-in-github",
        "colab_type": "text"
      },
      "source": [
        "<a href=\"https://colab.research.google.com/github/chsrinidh/AIML-Lab/blob/main/aiml.ipynb\" target=\"_parent\"><img src=\"https://colab.research.google.com/assets/colab-badge.svg\" alt=\"Open In Colab\"/></a>"
      ]
    },
    {
      "cell_type": "code",
      "execution_count": null,
      "metadata": {
        "colab": {
          "base_uri": "https://localhost:8080/"
        },
        "id": "6tgmqcoGFnQ2",
        "outputId": "c08ac769-5018-4e8f-b3c7-191fcd214404"
      },
      "outputs": [
        {
          "output_type": "stream",
          "name": "stdout",
          "text": [
            "this the list [1, 2, 3, 4, 5, 6]\n",
            "this the array [1 2 3 4 5 6]\n"
          ]
        }
      ],
      "source": [
        "import numpy as np\n",
        "import pandas as pd\n",
        "a=[1,2,3,4,5,6]\n",
        "print(\"this the list\",a)\n",
        "array=np.array(a)\n",
        "print(\"this the array\",array)"
      ]
    },
    {
      "source": [
        "print(type(a))\n",
        "print(type(array))"
      ],
      "cell_type": "code",
      "metadata": {
        "colab": {
          "base_uri": "https://localhost:8080/"
        },
        "id": "n87x8iWcGOqW",
        "outputId": "c1b3ce93-7a97-4d77-f2e8-f27e0481470e"
      },
      "execution_count": null,
      "outputs": [
        {
          "output_type": "stream",
          "name": "stdout",
          "text": [
            "<class 'list'>\n",
            "<class 'numpy.ndarray'>\n"
          ]
        }
      ]
    },
    {
      "source": [
        "result_mul_array = array * 2\n",
        "print( result_mul_array)\n",
        "result_div_array = array / 2\n",
        "print( result_div_array)\n",
        "result_pow_array = array ** 2\n",
        "print( result_pow_array)"
      ],
      "cell_type": "code",
      "metadata": {
        "colab": {
          "base_uri": "https://localhost:8080/"
        },
        "id": "4yfLxKq5Ggrp",
        "outputId": "2b607331-f93c-455b-c2de-a1882c25d422"
      },
      "execution_count": null,
      "outputs": [
        {
          "output_type": "stream",
          "name": "stdout",
          "text": [
            "[ 2  4  6  8 10 12]\n",
            "[0.5 1.  1.5 2.  2.5 3. ]\n",
            "[ 1  4  9 16 25 36]\n"
          ]
        }
      ]
    },
    {
      "source": [
        "array1 = np.array([1, 2, 3])\n",
        "array2 = np.array([4, 5, 6])\n",
        "result = array1 + array2\n",
        "print(result)"
      ],
      "cell_type": "code",
      "metadata": {
        "colab": {
          "base_uri": "https://localhost:8080/"
        },
        "id": "JxoB_aSPGvWj",
        "outputId": "41b761df-7f0f-489a-f50d-b147742e0e73"
      },
      "execution_count": null,
      "outputs": [
        {
          "output_type": "stream",
          "name": "stdout",
          "text": [
            "[5 7 9]\n"
          ]
        }
      ]
    },
    {
      "source": [
        "sin_result = np.sin(array)\n",
        "print( sin_result)\n",
        "log_result = np.log(array)\n",
        "print(log_result)\n",
        "log2_result = np.log2(array)\n",
        "print(log2_result)\n",
        "exp_result = np.exp(array)\n",
        "print(exp_result)"
      ],
      "cell_type": "code",
      "metadata": {
        "colab": {
          "base_uri": "https://localhost:8080/"
        },
        "id": "3ccC_JbAG13J",
        "outputId": "7ef81afb-af66-4d6d-f7ea-4a6f7e20a9d3"
      },
      "execution_count": null,
      "outputs": [
        {
          "output_type": "stream",
          "name": "stdout",
          "text": [
            "[ 0.84147098  0.90929743  0.14112001 -0.7568025  -0.95892427 -0.2794155 ]\n",
            "[0.         0.69314718 1.09861229 1.38629436 1.60943791 1.79175947]\n",
            "[0.         1.         1.5849625  2.         2.32192809 2.5849625 ]\n",
            "[  2.71828183   7.3890561   20.08553692  54.59815003 148.4131591\n",
            " 403.42879349]\n"
          ]
        }
      ]
    }
  ]
}